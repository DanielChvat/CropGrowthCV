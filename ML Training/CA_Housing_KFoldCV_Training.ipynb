{
 "cells": [
  {
   "cell_type": "markdown",
   "id": "8fd6dd38",
   "metadata": {},
   "source": [
    "### Import Necessary Libraries and Initialize the Random Seed"
   ]
  },
  {
   "cell_type": "code",
   "execution_count": 2,
   "id": "52fa0ff3",
   "metadata": {},
   "outputs": [],
   "source": [
    "from sklearn.model_selection import GroupKFold, cross_val_predict, cross_val_score\n",
    "from sklearn.cluster import KMeans\n",
    "from sklearn.linear_model import LinearRegression\n",
    "import pandas\n",
    "import numpy\n",
    "import matplotlib.pyplot as plt\n",
    "from sklearn.preprocessing import LabelEncoder, MinMaxScaler\n",
    "numpy.random.seed = 41"
   ]
  },
  {
   "cell_type": "markdown",
   "id": "651d92a0",
   "metadata": {},
   "source": [
    "### Load the Dataframe, Normalize, and Perform Label Preprocessing"
   ]
  },
  {
   "cell_type": "code",
   "execution_count": 3,
   "id": "b9dd9549",
   "metadata": {},
   "outputs": [],
   "source": [
    "encoder = LabelEncoder()\n",
    "scaledCols = []\n",
    "scaler = MinMaxScaler()\n",
    "ScaledHousingData = pandas.DataFrame()\n",
    "HousingData = pandas.read_csv(\"../Datasets/housing.csv\")\n",
    "HousingData['ocean_proximity'] = encoder.fit_transform(HousingData['ocean_proximity'])\n",
    "HousingData.drop(HousingData.loc[HousingData['total_bedrooms'].isna()].index, inplace=True)\n",
    "\n",
    "for col in HousingData.columns:\n",
    "    scaledCols.append(pandas.DataFrame(scaler.fit_transform(pandas.DataFrame(HousingData[col])), columns=[col]))\n",
    "\n",
    "for i in range(len(scaledCols)):\n",
    "    ScaledHousingData[HousingData.columns[i]] = scaledCols[i]\n"
   ]
  },
  {
   "cell_type": "markdown",
   "id": "255aca42",
   "metadata": {},
   "source": [
    "### Prepare Data for CV"
   ]
  },
  {
   "cell_type": "code",
   "execution_count": 20,
   "id": "8110ebdf",
   "metadata": {},
   "outputs": [
    {
     "data": {
      "text/plain": [
       "array([78, 80, 29, ..., 67, 67, 67], dtype=int32)"
      ]
     },
     "execution_count": 20,
     "metadata": {},
     "output_type": "execute_result"
    }
   ],
   "source": [
    "X = ScaledHousingData.drop(columns=['median_house_value', 'ocean_proximity'], axis='columns').values\n",
    "Y = ScaledHousingData['median_house_value'].values\n",
    "classes = KMeans(n_clusters=100, random_state=41).fit(ScaledHousingData).labels_\n",
    "classes\n"
   ]
  },
  {
   "cell_type": "markdown",
   "id": "29736285",
   "metadata": {},
   "source": [
    "### Perform CV With 5 Folds and Get Average Score"
   ]
  },
  {
   "cell_type": "code",
   "execution_count": 21,
   "id": "e3ccddda",
   "metadata": {},
   "outputs": [
    {
     "name": "stdout",
     "output_type": "stream",
     "text": [
      "Fold RMSE Scores:  [0.15004119 0.13804321 0.14880209 0.14427074]\n",
      "Average RMSE Score:  0.14528930585064764\n"
     ]
    }
   ],
   "source": [
    "gkf = GroupKFold(n_splits=4)\n",
    "model = LinearRegression()\n",
    "data = gkf.split(X, Y, classes)\n",
    "train_indices, test_indices = [list(traintest) for traintest in zip(*data)]\n",
    "housing_cv = [*zip(train_indices,test_indices)]\n",
    "\n",
    "predictions = cross_val_predict(model, X, Y, cv=housing_cv)\n",
    "RMSE = -cross_val_score(model, X, Y, cv=housing_cv, scoring='neg_root_mean_squared_error')\n",
    "r2 = cross_val_score(model, X, Y, cv=housing_cv, scoring='r2')\n",
    "\n",
    "print(\"Fold RMSE Scores: \", RMSE)\n",
    "print(\"Average RMSE Score: \", numpy.average(RMSE))\n"
   ]
  },
  {
   "cell_type": "code",
   "execution_count": 22,
   "id": "a0479a66",
   "metadata": {},
   "outputs": [
    {
     "name": "stdout",
     "output_type": "stream",
     "text": [
      "Fold R^2 Scores:  [0.60554051 0.64654624 0.58959232 0.65886563]\n",
      "Average R^2 Score:  0.6251361739024704\n"
     ]
    }
   ],
   "source": [
    "print(\"Fold R^2 Scores: \", r2)\n",
    "print(\"Average R^2 Score: \", numpy.average(r2))"
   ]
  },
  {
   "cell_type": "code",
   "execution_count": 23,
   "id": "20b1b4d6",
   "metadata": {},
   "outputs": [],
   "source": [
    "%matplotlib qt\n",
    "imp_features = ['median_income', 'longitude', 'latitude']\n",
    "# fig = plt.figure(figsize=(10, 20))\n",
    "# plot_3d = fig.add_subplot(projection='3d')\n",
    "# xs = ScaledHousingData[imp_features[0]].head(100)\n",
    "ys = ScaledHousingData[imp_features[1]].head(10000)\n",
    "zs = ScaledHousingData[imp_features[2]].head(10000)\n",
    "plt.scatter(ys, zs, c=classes[0:10000], cmap='Paired')\n",
    "\n",
    "plt.show()"
   ]
  },
  {
   "cell_type": "code",
   "execution_count": null,
   "id": "f2c5aee5",
   "metadata": {},
   "outputs": [],
   "source": []
  },
  {
   "cell_type": "code",
   "execution_count": null,
   "id": "18d1d1bb",
   "metadata": {},
   "outputs": [],
   "source": []
  }
 ],
 "metadata": {
  "kernelspec": {
   "display_name": "Python 3 (ipykernel)",
   "language": "python",
   "name": "python3"
  },
  "language_info": {
   "codemirror_mode": {
    "name": "ipython",
    "version": 3
   },
   "file_extension": ".py",
   "mimetype": "text/x-python",
   "name": "python",
   "nbconvert_exporter": "python",
   "pygments_lexer": "ipython3",
   "version": "3.9.19"
  }
 },
 "nbformat": 4,
 "nbformat_minor": 5
}
