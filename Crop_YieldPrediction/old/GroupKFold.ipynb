{
 "cells": [
  {
   "cell_type": "code",
   "execution_count": 1,
   "metadata": {},
   "outputs": [],
   "source": [
    "from sklearn.model_selection import GroupKFold, cross_val_predict, cross_val_score\n",
    "from sklearn.linear_model import LinearRegression\n",
    "from sklearn.ensemble import RandomForestRegressor\n",
    "import pandas\n",
    "import numpy\n",
    "import matplotlib.pyplot as plt\n",
    "from sklearn.preprocessing import MinMaxScaler\n",
    "numpy.random.seed = 41"
   ]
  },
  {
   "cell_type": "code",
   "execution_count": 2,
   "metadata": {},
   "outputs": [],
   "source": [
    "drop_cols = [     \n",
    "        'Unnamed: 0',\n",
    "        'Latitude',\n",
    "        'Longitude',\n",
    "        'Dataset',\n",
    "        'Obj. Id',\n",
    "        'Swth Wdth(ft)',\n",
    "        'Distance(ft)',\n",
    "        'Duration(s)',\n",
    "        'Track(deg)',\n",
    "        'Elevation(ft)',\n",
    "        'Pass Num',\n",
    "        'Speed(mph)',\n",
    "        'Yld Mass(Wet)(lb/ac)',\n",
    "        'Yld Vol(Wet)(bu/ac)',\n",
    "        'Yld Vol(Dry)(bu/ac)',\n",
    "        'Prod(ac/h)',\n",
    "        'Date'\n",
    "]\n",
    "\n",
    "yield_2020 = pandas.read_csv('../Datasets/Crop_Yield/Preprocessed/2020/Production_Yield_PLOTS_2020.csv')\n",
    "yield_2020.drop(columns=drop_cols, axis='columns',inplace=True)\n",
    "yield_2020 = yield_2020[yield_2020['Plot'] != -1].copy(deep=True).reset_index(drop=True)\n",
    "\n",
    "yield_2021 = pandas.read_csv('../Datasets/Crop_Yield/Preprocessed/2021/Production_Yield_PLOTS_2021.csv')\n",
    "yield_2021.drop(columns=drop_cols, axis='columns',inplace=True)\n",
    "yield_2021 = yield_2021[yield_2021['Plot'] != -1].copy(deep=True).reset_index(drop=True)\n",
    "\n",
    "yield_2022 = pandas.read_csv('../Datasets/Crop_Yield/Preprocessed/2022/Production_Yield_PLOTS_2022.csv')\n",
    "yield_2022.drop(columns=drop_cols, axis='columns',inplace=True)\n",
    "yield_2022 = yield_2022[yield_2022['Plot'] != -1].copy(deep=True).reset_index(drop=True)\n",
    "\n",
    "yield_2021_2022 = pandas.concat([yield_2021, yield_2022]).reset_index(drop=True)"
   ]
  },
  {
   "cell_type": "code",
   "execution_count": 3,
   "metadata": {},
   "outputs": [],
   "source": [
    "Scalers = {\n",
    "    'test': [MinMaxScaler(), MinMaxScaler()],\n",
    "    'train': [MinMaxScaler(), MinMaxScaler()]\n",
    "}\n",
    "\n",
    "X_test = yield_2020.drop(columns=['Yld Mass(Dry)(lb/ac)', 'Plot'])\n",
    "Y_test = yield_2020.drop(columns=['Moisture(%)', 'Crop Flw(M)(lb/s)', 'Crop Flw(V)(bu/h)', 'Plot'])\n",
    "\n",
    "X_train_validate = yield_2021_2022.drop(columns=['Yld Mass(Dry)(lb/ac)', 'Plot'])\n",
    "Y_train_validate = yield_2021_2022.drop(columns=['Moisture(%)', 'Crop Flw(M)(lb/s)', 'Crop Flw(V)(bu/h)', 'Plot'])\n",
    "plot_labels_2020_2021 = yield_2021_2022['Plot'].values\n",
    "\n",
    "\n",
    "X_test[['Moisture(%)', 'Crop Flw(M)(lb/s)', 'Crop Flw(V)(bu/h)']] = Scalers['test'][0].fit_transform(X_test[['Moisture(%)', 'Crop Flw(M)(lb/s)', 'Crop Flw(V)(bu/h)']])\n",
    "Y_test[['Yld Mass(Dry)(lb/ac)']] = Scalers['test'][1].fit_transform(Y_test[['Yld Mass(Dry)(lb/ac)']])\n",
    "\n",
    "X_train_validate[['Moisture(%)', 'Crop Flw(M)(lb/s)', 'Crop Flw(V)(bu/h)']] = Scalers['train'][0].fit_transform(X_train_validate[['Moisture(%)', 'Crop Flw(M)(lb/s)', 'Crop Flw(V)(bu/h)']])\n",
    "Y_train_validate[['Yld Mass(Dry)(lb/ac)']] = Scalers['train'][1].fit_transform(Y_train_validate[['Yld Mass(Dry)(lb/ac)']])\n"
   ]
  },
  {
   "cell_type": "code",
   "execution_count": 4,
   "metadata": {},
   "outputs": [
    {
     "name": "stdout",
     "output_type": "stream",
     "text": [
      "LR CV RMSE Scores:  [0.04183555 0.04449897 0.06110071 0.04936273 0.04926401]\n",
      "LR CV Average RMSE Score:  0.04921239391154908\n",
      "LR CV R^2 Scores:  [0.78004019 0.7468989  0.58519655 0.72606951 0.69863893]\n",
      "lR CV Average R^2 Score:  0.7073688159247814\n"
     ]
    }
   ],
   "source": [
    "gkf = GroupKFold()\n",
    "LRModel = LinearRegression()\n",
    "RFModel = RandomForestRegressor()\n",
    "\n",
    "folds = gkf.split(X_train_validate, Y_train_validate, plot_labels_2020_2021)\n",
    "train_indices, test_indices = [list(train) for train in zip(*folds)]\n",
    "yield_cv = [*zip(train_indices,test_indices)]\n",
    "\n",
    "LR_RMSE = -cross_val_score(LRModel, X_train_validate, Y_train_validate, cv=yield_cv, scoring='neg_root_mean_squared_error')\n",
    "LR_r2 = cross_val_score(LRModel, X_train_validate, Y_train_validate, cv=yield_cv, scoring='r2')\n",
    "\n",
    "\n",
    "print(\"LR CV RMSE Scores: \", LR_RMSE)\n",
    "print(\"LR CV Average RMSE Score: \", numpy.average(LR_RMSE))\n",
    "\n",
    "print(\"LR CV R^2 Scores: \", LR_r2)\n",
    "print(\"lR CV Average R^2 Score: \", numpy.average(LR_r2))\n",
    "\n"
   ]
  },
  {
   "cell_type": "code",
   "execution_count": null,
   "metadata": {},
   "outputs": [],
   "source": []
  },
  {
   "cell_type": "code",
   "execution_count": null,
   "metadata": {},
   "outputs": [],
   "source": []
  },
  {
   "cell_type": "code",
   "execution_count": null,
   "metadata": {},
   "outputs": [],
   "source": []
  }
 ],
 "metadata": {
  "kernelspec": {
   "display_name": "REU3.9.6",
   "language": "python",
   "name": "python3"
  },
  "language_info": {
   "codemirror_mode": {
    "name": "ipython",
    "version": 3
   },
   "file_extension": ".py",
   "mimetype": "text/x-python",
   "name": "python",
   "nbconvert_exporter": "python",
   "pygments_lexer": "ipython3",
   "version": "3.9.19"
  }
 },
 "nbformat": 4,
 "nbformat_minor": 2
}
