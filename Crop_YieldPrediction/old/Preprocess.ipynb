{
 "cells": [
  {
   "cell_type": "code",
   "execution_count": 1,
   "metadata": {},
   "outputs": [],
   "source": [
    "import pandas\n",
    "import numpy"
   ]
  },
  {
   "cell_type": "code",
   "execution_count": 3,
   "metadata": {},
   "outputs": [],
   "source": [
    "plot_2020 = pandas.read_csv('../Datasets/Crop_Yield/Plots/raw/Plots_Matlab_Roi_2020.csv')\n",
    "plot_2021 = pandas.read_csv('../Datasets/Crop_Yield/Plots/raw/Plots_Matlab_Roi_2021.csv')\n",
    "plot_2022 = pandas.read_csv('../Datasets/Crop_Yield/Plots/raw/Plots_Matlab_Roi_2022.csv')\n",
    "yield_2020 = pandas.read_csv('../Datasets/Crop_Yield/old/Production_yield_2020.csv')\n",
    "yield_2021 = pandas.read_csv('../Datasets/Crop_Yield/old/Production_yield_2021.csv')\n",
    "yield_2022 = pandas.read_csv('../Datasets/Crop_Yield/old/Production_yield_2022.csv')\n",
    "yield_2020.drop(columns=['Product', 'Field', 'Area Count', 'Y Offset(ft)', 'Time'], axis='columns', inplace=True)\n",
    "yield_2021.drop(columns=['Product', 'Field', 'Area Count', 'Y Offset(ft)', 'Time'], axis='columns', inplace=True)\n",
    "yield_2022.drop(columns=['Product', 'Field', 'Area Count', 'Y Offset(ft)', 'Time'], axis='columns', inplace=True)\n",
    "\n",
    "Dry_Yld_2022 = pandas.read_csv('../Datasets/Crop_Yield/scratch/2022/Dry_Yld_22.csv')\n",
    "Elevation_22 = pandas.read_csv('../Datasets/Crop_Yield/scratch/2022/Elevation_22_Bilinear.csv')"
   ]
  },
  {
   "cell_type": "code",
   "execution_count": 4,
   "metadata": {},
   "outputs": [],
   "source": [
    "def GenerateBoundingBox(plot_year):\n",
    "\n",
    "    BoundingBox = []\n",
    "\n",
    "    for i in range(1, len(plot_year) + 1):\n",
    "        row = plot_year[plot_year['Fields'] == i]\n",
    "        XBoundary = [row['left'].values[0], row['right'].values[0]]\n",
    "        YBoundary = [row['top'].values[0], row['bottom'].values[0]]\n",
    "        BoundingBox.append([XBoundary, YBoundary])\n",
    "\n",
    "    return BoundingBox"
   ]
  },
  {
   "cell_type": "code",
   "execution_count": 20,
   "metadata": {},
   "outputs": [],
   "source": [
    "def getPlotID(Bounds, row):\n",
    "    longitude = row['Longitude'].values[0]\n",
    "    latitude = row['Latitude'].values[0]\n",
    "    \n",
    "    for i in range(len(Bounds)):\n",
    "        left = Bounds[i][0][0]\n",
    "        right = Bounds[i][0][1]\n",
    "        top = Bounds[i][1][0]\n",
    "        bottom = Bounds[i][1][1]\n",
    "\n",
    "        if(longitude >= left and longitude <= right):\n",
    "            if(latitude <= top and latitude >= bottom):\n",
    "                return i + 1\n",
    "    \n",
    "    return -1"
   ]
  },
  {
   "cell_type": "code",
   "execution_count": 19,
   "metadata": {},
   "outputs": [],
   "source": [
    "def setPlots(plot_year, yield_year):\n",
    "    PlotIDS = []\n",
    "    BoundingBox = GenerateBoundingBox(plot_year)\n",
    "    for i in range(len(yield_year)):\n",
    "        plotID = getPlotID(BoundingBox, yield_year[yield_year.index == i])\n",
    "        PlotIDS.append(plotID)\n",
    "\n",
    "    yield_year['Plot'] = PlotIDS"
   ]
  },
  {
   "cell_type": "code",
   "execution_count": 47,
   "metadata": {},
   "outputs": [
    {
     "name": "stdout",
     "output_type": "stream",
     "text": [
      "2020 Plots Appended\n",
      "2021 Plots Appended\n",
      "2022 Plots Appended\n"
     ]
    }
   ],
   "source": [
    "# setPlots(plot_2020, yield_2020)\n",
    "# print(\"2020 Plots Appended\")\n",
    "# setPlots(plot_2021, yield_2021)\n",
    "# print(\"2021 Plots Appended\")\n",
    "# setPlots(plot_2022, yield_2022)\n",
    "# print(\"2022 Plots Appended\")\n",
    "\n",
    "# yield_2020.to_csv(\"../Datasets/Crop_Yield/Preprocessed/2020/Production_Yield_PLOTS_2020.csv\")\n",
    "# yield_2021.to_csv(\"../Datasets/Crop_Yield/Preprocessed/2021/Production_Yield_PLOTS_2021.csv\")\n",
    "# yield_2022.to_csv(\"../Datasets/Crop_Yield/Preprocessed/2022/Production_Yield_PLOTS_2022.csv\")"
   ]
  },
  {
   "cell_type": "code",
   "execution_count": 44,
   "metadata": {},
   "outputs": [],
   "source": [
    "Dry_Yld_2022.rename(columns={'OID_' : 'Plot'}, inplace=True)\n",
    "Dry_Yld_2022.drop(columns=['FID', 'X', 'Y'], inplace=True)\n",
    "Dry_Yld_2022.to_csv('../Datasets/Crop_Yield/Plots/interpolated/Int_Dry_Yld_2022.csv', index=False)"
   ]
  },
  {
   "cell_type": "code",
   "execution_count": 45,
   "metadata": {},
   "outputs": [],
   "source": [
    "Elevation_22.rename(columns={'OID_' : 'Plot'}, inplace=True)\n",
    "Elevation_22.drop(columns=['FID', 'X', 'Y'], inplace=True)\n",
    "Elevation_22.to_csv('../Datasets/Crop_Yield/Plots/interpolated/Int_Elevation_22_Bilinear.csv', index=False)\n"
   ]
  },
  {
   "cell_type": "code",
   "execution_count": null,
   "metadata": {},
   "outputs": [],
   "source": []
  },
  {
   "cell_type": "code",
   "execution_count": null,
   "metadata": {},
   "outputs": [],
   "source": []
  },
  {
   "cell_type": "code",
   "execution_count": null,
   "metadata": {},
   "outputs": [],
   "source": []
  },
  {
   "cell_type": "code",
   "execution_count": null,
   "metadata": {},
   "outputs": [],
   "source": []
  }
 ],
 "metadata": {
  "kernelspec": {
   "display_name": "REU3.9.6",
   "language": "python",
   "name": "python3"
  },
  "language_info": {
   "codemirror_mode": {
    "name": "ipython",
    "version": 3
   },
   "file_extension": ".py",
   "mimetype": "text/x-python",
   "name": "python",
   "nbconvert_exporter": "python",
   "pygments_lexer": "ipython3",
   "version": "3.9.19"
  }
 },
 "nbformat": 4,
 "nbformat_minor": 2
}
