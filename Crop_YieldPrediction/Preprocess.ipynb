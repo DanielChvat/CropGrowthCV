{
 "cells": [
  {
   "cell_type": "code",
   "execution_count": 1,
   "metadata": {},
   "outputs": [],
   "source": [
    "import pandas as pd\n",
    "import numpy as np\n",
    "\n",
    "from sklearn.preprocessing import MinMaxScaler\n",
    "from sklearn.model_selection import cross_val_score"
   ]
  },
  {
   "cell_type": "markdown",
   "metadata": {},
   "source": [
    "### Define Functions to Set the Plots Using Latitude and Longitude Bounds"
   ]
  },
  {
   "cell_type": "code",
   "execution_count": 11,
   "metadata": {},
   "outputs": [],
   "source": [
    "def GenerateBoundingBox(plot_bounds):\n",
    "\n",
    "    BoundingBox = []\n",
    "\n",
    "    for i in range(1, len(plot_bounds) + 1):\n",
    "        row = plot_bounds[plot_bounds['Fields'] == i]\n",
    "        XBoundary = [row['left'].values[0], row['right'].values[0]]\n",
    "        YBoundary = [row['top'].values[0], row['bottom'].values[0]]\n",
    "        BoundingBox.append([XBoundary, YBoundary])\n",
    "\n",
    "    return BoundingBox"
   ]
  },
  {
   "cell_type": "code",
   "execution_count": 27,
   "metadata": {},
   "outputs": [],
   "source": [
    "def getPlotID(Bounds, row, ColNames: list):\n",
    "    longitude = row[ColNames[0]].values[0]\n",
    "    latitude = row[ColNames[1]].values[0]\n",
    "    \n",
    "    for i in range(len(Bounds)):\n",
    "        left = Bounds[i][0][0]\n",
    "        right = Bounds[i][0][1]\n",
    "        top = Bounds[i][1][0]\n",
    "        bottom = Bounds[i][1][1]\n",
    "\n",
    "        if(longitude >= left and longitude <= right and latitude <= top and latitude >= bottom):\n",
    "            return i + 1\n",
    "    \n",
    "    return None"
   ]
  },
  {
   "cell_type": "code",
   "execution_count": 8,
   "metadata": {},
   "outputs": [],
   "source": [
    "def setPlots(plot_bounds, data, colNames: list):\n",
    "    PlotIDS = []\n",
    "    BoundingBox = GenerateBoundingBox(plot_bounds)\n",
    "    for i in range(len(data)):\n",
    "        plotID = getPlotID(BoundingBox, data[data.index == i], colNames)\n",
    "        PlotIDS.append(plotID)\n",
    "\n",
    "    data['Plot'] = PlotIDS"
   ]
  },
  {
   "cell_type": "markdown",
   "metadata": {},
   "source": [
    "### Assign Plots to 2020 Data And Remove Unnecessary Columns"
   ]
  },
  {
   "cell_type": "code",
   "execution_count": 38,
   "metadata": {},
   "outputs": [],
   "source": [
    "plot_bounds_2020 = pd.read_csv(\"../Datasets/Crop_Yield/Plots/Boundaries/Plots_Matlab_Roi_2020.csv\")\n",
    "crp_fw_m_2020 = pd.read_csv(\"../Datasets/Crop_Yield/scratch/2020/crp_fw_m_2020.csv\")\n",
    "crp_fw_v_2020 = pd.read_csv(\"../Datasets/Crop_Yield/scratch/2020/crp_fw_v_2020.csv\")\n",
    "dry_yld_mass_2020 = pd.read_csv(\"../Datasets/Crop_Yield/scratch/2020/dry_yld_mass_2020.csv\")\n",
    "dry_yld_vol_2020 = pd.read_csv(\"../Datasets/Crop_Yield/scratch/2020/dry_yld_vol_2020.csv\")\n",
    "elev_2020 = pd.read_csv(\"../Datasets/Crop_Yield/scratch/2020/elev_2020.csv\")\n",
    "moisture_2020 = pd.read_csv(\"../Datasets/Crop_Yield/scratch/2020/moisture_2020.csv\")\n",
    "\n",
    "cols = ['X', 'Y']\n",
    "setPlots(plot_bounds_2020, crp_fw_m_2020, cols)\n",
    "setPlots(plot_bounds_2020, crp_fw_v_2020, cols)\n",
    "setPlots(plot_bounds_2020, dry_yld_mass_2020, cols)\n",
    "setPlots(plot_bounds_2020, dry_yld_vol_2020, cols)\n",
    "setPlots(plot_bounds_2020, elev_2020, cols)\n",
    "setPlots(plot_bounds_2020, moisture_2020, cols)"
   ]
  },
  {
   "cell_type": "code",
   "execution_count": 52,
   "metadata": {},
   "outputs": [],
   "source": [
    "crp_fw_m_2020.drop(columns=['OID_', 'FID', 'X', 'Y'], inplace=True)\n",
    "crp_fw_v_2020.drop(columns=['OID_', 'FID', 'X', 'Y'], inplace=True)\n",
    "dry_yld_mass_2020.drop(columns=['OID_', 'FID', 'X', 'Y'], inplace=True)\n",
    "dry_yld_vol_2020.drop(columns=['OID_', 'FID', 'X', 'Y'], inplace=True)\n",
    "elev_2020.drop(columns=['OID_', 'FID', 'X', 'Y'], inplace=True)\n",
    "moisture_2020.drop(columns=['OID_', 'FID', 'X', 'Y'], inplace=True)"
   ]
  },
  {
   "cell_type": "code",
   "execution_count": 53,
   "metadata": {},
   "outputs": [],
   "source": [
    "crp_fw_m_2020.to_csv(\"../Datasets/Crop_Yield/Plots/interpolated/2020/int_crp_fw_m_2020.csv\", index=False)\n",
    "crp_fw_v_2020.to_csv(\"../Datasets/Crop_Yield/Plots/interpolated/2020/int_crp_fw_v_2020.csv\", index=False)\n",
    "dry_yld_mass_2020.to_csv(\"../Datasets/Crop_Yield/Plots/interpolated/2020/int_dry_yld_mass_2020.csv\", index=False)\n",
    "dry_yld_vol_2020.to_csv(\"../Datasets/Crop_Yield/Plots/interpolated/2020/int_dry_yld_vol_2020.csv\", index=False)\n",
    "elev_2020.to_csv(\"../Datasets/Crop_Yield/Plots/interpolated/2020/int_elev_2020.csv\", index=False)\n",
    "moisture_2020.to_csv(\"../Datasets/Crop_Yield/Plots/interpolated/2020/int_moisture_2020.csv\", index=False)"
   ]
  },
  {
   "cell_type": "markdown",
   "metadata": {},
   "source": [
    "### Assign Plots to 2021 Data And Remove Unnecessary Columns"
   ]
  },
  {
   "cell_type": "code",
   "execution_count": 64,
   "metadata": {},
   "outputs": [],
   "source": [
    "plot_bounds_2021 = pd.read_csv(\"../Datasets/Crop_Yield/Plots/Boundaries/Plots_Matlab_Roi_2021.csv\")\n",
    "crp_fw_m_2021 = pd.read_csv(\"../Datasets/Crop_Yield/scratch/2021/Crop_Flw_M_Data_2021.csv\")\n",
    "crp_fw_v_2021 = pd.read_csv(\"../Datasets/Crop_Yield/scratch/2021/Crop_Flw_V_Data_2021.csv\")\n",
    "dry_yld_mass_2021 = pd.read_csv(\"../Datasets/Crop_Yield/scratch/2021/Yld_Mass_D_Data_2021.csv\")\n",
    "dry_yld_vol_2021 = pd.read_csv(\"../Datasets/Crop_Yield/scratch/2021/Yld_Vol_Dr_Data_2021.csv\")\n",
    "elev_2021 = pd.read_csv(\"../Datasets/Crop_Yield/scratch/2021/Elevation_Data_2021.csv\")\n",
    "moisture_2021 = pd.read_csv(\"../Datasets/Crop_Yield/scratch/2021/Moisture_Data_2021.csv\")\n",
    "\n",
    "cols = ['X', 'Y']\n",
    "setPlots(plot_bounds_2021, crp_fw_m_2021, cols)\n",
    "setPlots(plot_bounds_2021, crp_fw_v_2021, cols)\n",
    "setPlots(plot_bounds_2021, dry_yld_mass_2021, cols)\n",
    "setPlots(plot_bounds_2021, dry_yld_vol_2021, cols)\n",
    "setPlots(plot_bounds_2021, elev_2021, cols)\n",
    "setPlots(plot_bounds_2021, moisture_2021, cols)"
   ]
  },
  {
   "cell_type": "code",
   "execution_count": 65,
   "metadata": {},
   "outputs": [],
   "source": [
    "crp_fw_m_2021.drop(columns=['OID_', 'FID', 'X', 'Y'], inplace=True)\n",
    "crp_fw_v_2021.drop(columns=['OID_', 'FID', 'X', 'Y'], inplace=True)\n",
    "dry_yld_mass_2021.drop(columns=['OID_', 'FID', 'X', 'Y'], inplace=True)\n",
    "dry_yld_vol_2021.drop(columns=['OID_', 'FID', 'X', 'Y'], inplace=True)\n",
    "elev_2021.drop(columns=['OID_', 'FID', 'X', 'Y'], inplace=True)\n",
    "moisture_2021.drop(columns=['OID_', 'FID', 'X', 'Y'], inplace=True)"
   ]
  },
  {
   "cell_type": "code",
   "execution_count": 66,
   "metadata": {},
   "outputs": [],
   "source": [
    "crp_fw_m_2021.to_csv(\"../Datasets/Crop_Yield/Plots/interpolated/2021/int_crp_fw_m_2021.csv\", index=False)\n",
    "crp_fw_v_2021.to_csv(\"../Datasets/Crop_Yield/Plots/interpolated/2021/int_crp_fw_v_2021.csv\", index=False)\n",
    "dry_yld_mass_2021.to_csv(\"../Datasets/Crop_Yield/Plots/interpolated/2021/int_dry_yld_mass_2021.csv\", index=False)\n",
    "dry_yld_vol_2021.to_csv(\"../Datasets/Crop_Yield/Plots/interpolated/2021/int_dry_yld_vol_2021.csv\", index=False)\n",
    "elev_2021.to_csv(\"../Datasets/Crop_Yield/Plots/interpolated/2021/int_elev_2021.csv\", index=False)\n",
    "moisture_2021.to_csv(\"../Datasets/Crop_Yield/Plots/interpolated/2021/int_moisture_2021.csv\", index=False)"
   ]
  },
  {
   "cell_type": "markdown",
   "metadata": {},
   "source": []
  },
  {
   "cell_type": "code",
   "execution_count": 3,
   "metadata": {},
   "outputs": [],
   "source": [
    "# Crop_Yield = []\n",
    "# Elevation = []\n",
    "\n",
    "# for i in range(len(Indices_2022)):\n",
    "#     row = Indices_2022[Indices_2022.index == i]\n",
    "#     plot = row['Plot'].values.astype(np.int32)[0]\n",
    "#     Crop_Yield.append(Dry_Yield_2022[Dry_Yield_2022['Plot'] == plot]['Dry_yld_22'].values[0])\n",
    "#     Elevation.append(Elevation_2022[Elevation_2022['Plot'] == plot]['Elevation_22'].values[0])"
   ]
  },
  {
   "cell_type": "code",
   "execution_count": null,
   "metadata": {},
   "outputs": [],
   "source": []
  },
  {
   "cell_type": "code",
   "execution_count": 29,
   "metadata": {},
   "outputs": [],
   "source": [
    "# Indices_2022['Yield'] = Crop_Yield\n",
    "# Indices_2022['Elevation'] = Elevation\n",
    "# Indices_2022.to_csv('../Datasets/Crop_Yield/Plots/merged/Indices_2022_merged.csv', index=False)\n",
    "# Indices_2022"
   ]
  },
  {
   "cell_type": "code",
   "execution_count": null,
   "metadata": {},
   "outputs": [],
   "source": []
  }
 ],
 "metadata": {
  "kernelspec": {
   "display_name": "REU3.9.6",
   "language": "python",
   "name": "python3"
  },
  "language_info": {
   "codemirror_mode": {
    "name": "ipython",
    "version": 3
   },
   "file_extension": ".py",
   "mimetype": "text/x-python",
   "name": "python",
   "nbconvert_exporter": "python",
   "pygments_lexer": "ipython3",
   "version": "3.9.19"
  }
 },
 "nbformat": 4,
 "nbformat_minor": 2
}
